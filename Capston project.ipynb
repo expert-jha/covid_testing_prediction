{
 "cells": [
  {
   "cell_type": "code",
   "execution_count": null,
   "id": "c5c62352",
   "metadata": {},
   "outputs": [],
   "source": [
    "\n",
    "SQL\n",
    "\n",
    "Use MySQL or PyMySQL to perform the below queries. \n",
    "\n",
    "Note: Use only the cleaned data for SQL part of the project\n",
    "\n",
    "\n",
    "Find the number of corona patients who faced shortness of breath.\n",
    "\n",
    "Find the number of negative corona patients who have fever and sore_throat. \n",
    "\n",
    "Group the data by month and rank the number of positive cases.\n",
    "\n",
    "Find the female negative corona patients who faced cough and headache.\n",
    "\n",
    "How many elderly corona patients have faced breathing problems?\n",
    "\n",
    "Which three symptoms were more common among COVID positive patients?\n",
    "\n",
    "Which symptom was less common among COVID negative people?\n",
    "\n",
    "What are the most common symptoms among COVID positive males whose known contact was abroad? \n"
   ]
  },
  {
   "cell_type": "markdown",
   "id": "fa3c97f1",
   "metadata": {},
   "source": [
    "## Imporatnce of the Project\n",
    "The COVID-19 pandemic has had a significant impact on the world and it's critical to address it effectively. A COVID-19 proposal can provide solutions to the challenges posed by the pandemic, such as controlling its spread, providing medical care to those affected, protecting the vulnerable, and mitigating its economic and social consequences. The proposals can also help governments, organizations, and communities in their efforts to manage and overcome the pandemic effectively. \n",
    "Accurate disease prediction can lead to improved patient outcomes and better management of healthcare resources in terms of early diagnosis, Personalised Treatment, Resource Allocation and Disease Preventation"
   ]
  },
  {
   "cell_type": "markdown",
   "id": "649e2bbd",
   "metadata": {},
   "source": [
    "### Dataset Description\n",
    "Dataset contails symptoms of patients which is crucial to identify the infection of covid. Columns are categorical in nature.\n",
    "Details of the columns are :\n",
    "*  ID (Individual ID)\n",
    "\n",
    "* Sex (male/female). \n",
    "\n",
    "* Age ≥60 above years (true/false) \n",
    "\n",
    "* Test date (date when tested for COVID)\n",
    "\n",
    "* Cough (true/false).\n",
    "\n",
    "* Fever (true/false). \n",
    "\n",
    "* Sore throat (true/false). \n",
    "* Shortness of breath (true/false). \n",
    "\n",
    "* Headache (true/false). \n",
    "* Known contact with an individual confirmed to have COVID-19 (true/false).\n",
    "* Corona positive or negative\n",
    "\n"
   ]
  },
  {
   "cell_type": "code",
   "execution_count": 1,
   "id": "fcdbe90c",
   "metadata": {},
   "outputs": [],
   "source": [
    "# importing necessary libraries\n",
    "import numpy\n",
    "import pandas\n",
    "import seaborn\n",
    "import matplotlib.pyplot as plt\n",
    "\n",
    "from sklearn.feature_selection import SelectKBest\n",
    "from sklearn.feature_selection import chi2\n",
    "from sklearn.model_selection import train_test_split\n",
    "\n",
    "\n",
    "from sklearn.linear_model import LogisticRegression\n",
    "from sklearn.tree import DecisionTreeClassifier\n",
    "from sklearn.ensemble import RandomForestClassifier\n",
    "from sklearn.ensemble import GradientBoostingClassifier\n",
    "from sklearn import svm\n",
    "from sklearn.metrics import accuracy_score, precision_score, recall_score, f1_score, confusion_matrix, roc_auc_score,classification_report"
   ]
  },
  {
   "cell_type": "code",
   "execution_count": 2,
   "id": "db9c402c",
   "metadata": {},
   "outputs": [],
   "source": [
    "import warnings\n",
    "warnings.filterwarnings('ignore')"
   ]
  },
  {
   "cell_type": "code",
   "execution_count": 3,
   "id": "c6644f47",
   "metadata": {},
   "outputs": [],
   "source": [
    "#uploading the dataset\n",
    "covid = pandas.read_csv('corona_tested_006.csv')"
   ]
  },
  {
   "cell_type": "code",
   "execution_count": 4,
   "id": "035e6a81",
   "metadata": {},
   "outputs": [
    {
     "data": {
      "text/plain": [
       "(278848, 11)"
      ]
     },
     "execution_count": 4,
     "metadata": {},
     "output_type": "execute_result"
    }
   ],
   "source": [
    "covid.shape"
   ]
  },
  {
   "cell_type": "code",
   "execution_count": 5,
   "id": "87a5281b",
   "metadata": {},
   "outputs": [],
   "source": [
    "#making a copy\n",
    "covid_data = covid.copy(deep=True)"
   ]
  },
  {
   "cell_type": "code",
   "execution_count": 6,
   "id": "495a7ba4",
   "metadata": {},
   "outputs": [
    {
     "data": {
      "text/html": [
       "<div>\n",
       "<style scoped>\n",
       "    .dataframe tbody tr th:only-of-type {\n",
       "        vertical-align: middle;\n",
       "    }\n",
       "\n",
       "    .dataframe tbody tr th {\n",
       "        vertical-align: top;\n",
       "    }\n",
       "\n",
       "    .dataframe thead th {\n",
       "        text-align: right;\n",
       "    }\n",
       "</style>\n",
       "<table border=\"1\" class=\"dataframe\">\n",
       "  <thead>\n",
       "    <tr style=\"text-align: right;\">\n",
       "      <th></th>\n",
       "      <th>Ind_ID</th>\n",
       "      <th>Test_date</th>\n",
       "      <th>Cough_symptoms</th>\n",
       "      <th>Fever</th>\n",
       "      <th>Sore_throat</th>\n",
       "      <th>Shortness_of_breath</th>\n",
       "      <th>Headache</th>\n",
       "      <th>Corona</th>\n",
       "      <th>Age_60_above</th>\n",
       "      <th>Sex</th>\n",
       "      <th>Known_contact</th>\n",
       "    </tr>\n",
       "  </thead>\n",
       "  <tbody>\n",
       "    <tr>\n",
       "      <th>0</th>\n",
       "      <td>1</td>\n",
       "      <td>11-03-2020</td>\n",
       "      <td>TRUE</td>\n",
       "      <td>FALSE</td>\n",
       "      <td>TRUE</td>\n",
       "      <td>FALSE</td>\n",
       "      <td>FALSE</td>\n",
       "      <td>negative</td>\n",
       "      <td>None</td>\n",
       "      <td>None</td>\n",
       "      <td>Abroad</td>\n",
       "    </tr>\n",
       "    <tr>\n",
       "      <th>1</th>\n",
       "      <td>2</td>\n",
       "      <td>11-03-2020</td>\n",
       "      <td>FALSE</td>\n",
       "      <td>TRUE</td>\n",
       "      <td>FALSE</td>\n",
       "      <td>FALSE</td>\n",
       "      <td>FALSE</td>\n",
       "      <td>positive</td>\n",
       "      <td>None</td>\n",
       "      <td>None</td>\n",
       "      <td>Abroad</td>\n",
       "    </tr>\n",
       "    <tr>\n",
       "      <th>2</th>\n",
       "      <td>3</td>\n",
       "      <td>11-03-2020</td>\n",
       "      <td>FALSE</td>\n",
       "      <td>TRUE</td>\n",
       "      <td>FALSE</td>\n",
       "      <td>FALSE</td>\n",
       "      <td>FALSE</td>\n",
       "      <td>positive</td>\n",
       "      <td>None</td>\n",
       "      <td>None</td>\n",
       "      <td>Abroad</td>\n",
       "    </tr>\n",
       "    <tr>\n",
       "      <th>3</th>\n",
       "      <td>4</td>\n",
       "      <td>11-03-2020</td>\n",
       "      <td>TRUE</td>\n",
       "      <td>FALSE</td>\n",
       "      <td>FALSE</td>\n",
       "      <td>FALSE</td>\n",
       "      <td>FALSE</td>\n",
       "      <td>negative</td>\n",
       "      <td>None</td>\n",
       "      <td>None</td>\n",
       "      <td>Abroad</td>\n",
       "    </tr>\n",
       "    <tr>\n",
       "      <th>4</th>\n",
       "      <td>5</td>\n",
       "      <td>11-03-2020</td>\n",
       "      <td>TRUE</td>\n",
       "      <td>FALSE</td>\n",
       "      <td>FALSE</td>\n",
       "      <td>FALSE</td>\n",
       "      <td>FALSE</td>\n",
       "      <td>negative</td>\n",
       "      <td>None</td>\n",
       "      <td>None</td>\n",
       "      <td>Contact with confirmed</td>\n",
       "    </tr>\n",
       "  </tbody>\n",
       "</table>\n",
       "</div>"
      ],
      "text/plain": [
       "   Ind_ID   Test_date Cough_symptoms  Fever Sore_throat Shortness_of_breath  \\\n",
       "0       1  11-03-2020           TRUE  FALSE        TRUE               FALSE   \n",
       "1       2  11-03-2020          FALSE   TRUE       FALSE               FALSE   \n",
       "2       3  11-03-2020          FALSE   TRUE       FALSE               FALSE   \n",
       "3       4  11-03-2020           TRUE  FALSE       FALSE               FALSE   \n",
       "4       5  11-03-2020           TRUE  FALSE       FALSE               FALSE   \n",
       "\n",
       "  Headache    Corona Age_60_above   Sex           Known_contact  \n",
       "0    FALSE  negative         None  None                  Abroad  \n",
       "1    FALSE  positive         None  None                  Abroad  \n",
       "2    FALSE  positive         None  None                  Abroad  \n",
       "3    FALSE  negative         None  None                  Abroad  \n",
       "4    FALSE  negative         None  None  Contact with confirmed  "
      ]
     },
     "execution_count": 6,
     "metadata": {},
     "output_type": "execute_result"
    }
   ],
   "source": [
    "#first 5 rows\n",
    "covid_data.head()"
   ]
  },
  {
   "cell_type": "code",
   "execution_count": 7,
   "id": "c5cfeb5d",
   "metadata": {},
   "outputs": [
    {
     "data": {
      "text/plain": [
       "Ind_ID                 0\n",
       "Test_date              0\n",
       "Cough_symptoms         0\n",
       "Fever                  0\n",
       "Sore_throat            0\n",
       "Shortness_of_breath    0\n",
       "Headache               0\n",
       "Corona                 0\n",
       "Age_60_above           0\n",
       "Sex                    0\n",
       "Known_contact          0\n",
       "dtype: int64"
      ]
     },
     "execution_count": 7,
     "metadata": {},
     "output_type": "execute_result"
    }
   ],
   "source": [
    "# checking for null values\n",
    "covid_data.isnull().sum()"
   ]
  },
  {
   "cell_type": "markdown",
   "id": "2c7ab3bb",
   "metadata": {},
   "source": [
    "There is zero null values showing.\n",
    "Exploring more to detect any unusual data."
   ]
  },
  {
   "cell_type": "code",
   "execution_count": 8,
   "id": "4b48a53f",
   "metadata": {},
   "outputs": [
    {
     "name": "stdout",
     "output_type": "stream",
     "text": [
      "<class 'pandas.core.frame.DataFrame'>\n",
      "RangeIndex: 278848 entries, 0 to 278847\n",
      "Data columns (total 11 columns):\n",
      " #   Column               Non-Null Count   Dtype \n",
      "---  ------               --------------   ----- \n",
      " 0   Ind_ID               278848 non-null  int64 \n",
      " 1   Test_date            278848 non-null  object\n",
      " 2   Cough_symptoms       278848 non-null  object\n",
      " 3   Fever                278848 non-null  object\n",
      " 4   Sore_throat          278848 non-null  object\n",
      " 5   Shortness_of_breath  278848 non-null  object\n",
      " 6   Headache             278848 non-null  object\n",
      " 7   Corona               278848 non-null  object\n",
      " 8   Age_60_above         278848 non-null  object\n",
      " 9   Sex                  278848 non-null  object\n",
      " 10  Known_contact        278848 non-null  object\n",
      "dtypes: int64(1), object(10)\n",
      "memory usage: 23.4+ MB\n"
     ]
    }
   ],
   "source": [
    "covid_data.info()"
   ]
  },
  {
   "cell_type": "code",
   "execution_count": 10,
   "id": "6c4f9bc8",
   "metadata": {},
   "outputs": [],
   "source": [
    "# renaming a column\n",
    "covid_data = covid_data.rename(columns={'Sex':'Gender'})"
   ]
  },
  {
   "cell_type": "code",
   "execution_count": 11,
   "id": "b9579f11",
   "metadata": {},
   "outputs": [
    {
     "name": "stdout",
     "output_type": "stream",
     "text": [
      "Cough_symptoms has \n",
      "False    127531\n",
      "FALSE    108837\n",
      "TRUE      21983\n",
      "True      20245\n",
      "None        252\n",
      "Name: Cough_symptoms, dtype: int64\n",
      "\n",
      "\n",
      "Fever has \n",
      "False    137774\n",
      "FALSE    119070\n",
      "TRUE      11750\n",
      "True      10002\n",
      "None        252\n",
      "Name: Fever, dtype: int64\n",
      "\n",
      "\n",
      "Sore_throat has \n",
      "False    212584\n",
      "FALSE     64337\n",
      "TRUE       1198\n",
      "True        728\n",
      "None          1\n",
      "Name: Sore_throat, dtype: int64\n",
      "\n",
      "\n",
      "Shortness_of_breath has \n",
      "False    212842\n",
      "FALSE     64428\n",
      "TRUE       1107\n",
      "True        470\n",
      "None          1\n",
      "Name: Shortness_of_breath, dtype: int64\n",
      "\n",
      "\n",
      "Headache has \n",
      "False    212326\n",
      "FALSE     64107\n",
      "TRUE       1428\n",
      "True        986\n",
      "None          1\n",
      "Name: Headache, dtype: int64\n",
      "\n",
      "\n",
      "Corona has \n",
      "negative    260227\n",
      "positive     14729\n",
      "other         3892\n",
      "Name: Corona, dtype: int64\n",
      "\n",
      "\n",
      "Age_60_above has \n",
      "None    127320\n",
      "No      125703\n",
      "Yes      25825\n",
      "Name: Age_60_above, dtype: int64\n",
      "\n",
      "\n",
      "Gender has \n",
      "female    130158\n",
      "male      129127\n",
      "None       19563\n",
      "Name: Gender, dtype: int64\n",
      "\n",
      "\n",
      "Known_contact has \n",
      "Other                     242741\n",
      "Abroad                     25468\n",
      "Contact with confirmed     10639\n",
      "Name: Known_contact, dtype: int64\n",
      "\n",
      "\n"
     ]
    }
   ],
   "source": [
    "print(\"Cough_symptoms has \")\n",
    "print(covid_data['Cough_symptoms'].value_counts())\n",
    "print(\"\\n\")\n",
    "\n",
    "print(\"Fever has \")\n",
    "print(covid_data['Fever'].value_counts())\n",
    "print(\"\\n\")\n",
    "\n",
    "print(\"Sore_throat has \")\n",
    "print(covid_data['Sore_throat'].value_counts())\n",
    "print(\"\\n\")\n",
    "\n",
    "print(\"Shortness_of_breath has \")\n",
    "print(covid_data['Shortness_of_breath'].value_counts())\n",
    "print(\"\\n\")\n",
    "\n",
    "print(\"Headache has \")\n",
    "print(covid_data['Headache'].value_counts())\n",
    "print(\"\\n\")\n",
    "\n",
    "print(\"Corona has \")\n",
    "print(covid_data['Corona'].value_counts())\n",
    "print(\"\\n\")\n",
    "\n",
    "print(\"Age_60_above has \")\n",
    "print(covid_data['Age_60_above'].value_counts())\n",
    "print(\"\\n\")\n",
    "\n",
    "print(\"Gender has \")\n",
    "print(covid_data['Gender'].value_counts())\n",
    "print(\"\\n\")\n",
    "\n",
    "print(\"Known_contact has \")\n",
    "print(covid_data['Known_contact'].value_counts())\n",
    "print(\"\\n\")\n"
   ]
  },
  {
   "cell_type": "markdown",
   "id": "a3cb0f2a",
   "metadata": {},
   "source": [
    "As seen above, most of the column has 'True' and 'TRUE' which needs to considered as same."
   ]
  },
  {
   "cell_type": "code",
   "execution_count": 13,
   "id": "a0b67538",
   "metadata": {},
   "outputs": [],
   "source": [
    "# Defining a function\n",
    "def convert(x):\n",
    "    if x == True:\n",
    "        return 'true'\n",
    "    elif x == False:\n",
    "        return 'false'\n",
    "    elif x == 'TRUE':\n",
    "        return x.lower()\n",
    "    elif x == 'FALSE':\n",
    "        return x.lower()\n",
    "    else:\n",
    "        return x"
   ]
  },
  {
   "cell_type": "code",
   "execution_count": 16,
   "id": "1c7a223d",
   "metadata": {},
   "outputs": [],
   "source": [
    "# applying the defined function\n",
    "covid_data['Cough_symptoms'] = covid_data['Cough_symptoms'].map(convert)\n",
    "covid_data['Fever'] = covid_data['Fever'].map(convert)\n",
    "covid_data['Sore_throat'] = covid_data['Sore_throat'].map(convert)\n",
    "covid_data['Shortness_of_breath'] = covid_data['Shortness_of_breath'].map(convert)\n",
    "covid_data['Headache'] = covid_data['Headache'].map(convert)"
   ]
  },
  {
   "cell_type": "code",
   "execution_count": 17,
   "id": "444ee0a5",
   "metadata": {},
   "outputs": [
    {
     "data": {
      "text/html": [
       "<div>\n",
       "<style scoped>\n",
       "    .dataframe tbody tr th:only-of-type {\n",
       "        vertical-align: middle;\n",
       "    }\n",
       "\n",
       "    .dataframe tbody tr th {\n",
       "        vertical-align: top;\n",
       "    }\n",
       "\n",
       "    .dataframe thead th {\n",
       "        text-align: right;\n",
       "    }\n",
       "</style>\n",
       "<table border=\"1\" class=\"dataframe\">\n",
       "  <thead>\n",
       "    <tr style=\"text-align: right;\">\n",
       "      <th></th>\n",
       "      <th>Ind_ID</th>\n",
       "      <th>Test_date</th>\n",
       "      <th>Cough_symptoms</th>\n",
       "      <th>Fever</th>\n",
       "      <th>Sore_throat</th>\n",
       "      <th>Shortness_of_breath</th>\n",
       "      <th>Headache</th>\n",
       "      <th>Corona</th>\n",
       "      <th>Age_60_above</th>\n",
       "      <th>Gender</th>\n",
       "      <th>Known_contact</th>\n",
       "    </tr>\n",
       "  </thead>\n",
       "  <tbody>\n",
       "    <tr>\n",
       "      <th>0</th>\n",
       "      <td>1</td>\n",
       "      <td>11-03-2020</td>\n",
       "      <td>true</td>\n",
       "      <td>false</td>\n",
       "      <td>true</td>\n",
       "      <td>false</td>\n",
       "      <td>false</td>\n",
       "      <td>negative</td>\n",
       "      <td>None</td>\n",
       "      <td>None</td>\n",
       "      <td>Abroad</td>\n",
       "    </tr>\n",
       "    <tr>\n",
       "      <th>1</th>\n",
       "      <td>2</td>\n",
       "      <td>11-03-2020</td>\n",
       "      <td>false</td>\n",
       "      <td>true</td>\n",
       "      <td>false</td>\n",
       "      <td>false</td>\n",
       "      <td>false</td>\n",
       "      <td>positive</td>\n",
       "      <td>None</td>\n",
       "      <td>None</td>\n",
       "      <td>Abroad</td>\n",
       "    </tr>\n",
       "    <tr>\n",
       "      <th>2</th>\n",
       "      <td>3</td>\n",
       "      <td>11-03-2020</td>\n",
       "      <td>false</td>\n",
       "      <td>true</td>\n",
       "      <td>false</td>\n",
       "      <td>false</td>\n",
       "      <td>false</td>\n",
       "      <td>positive</td>\n",
       "      <td>None</td>\n",
       "      <td>None</td>\n",
       "      <td>Abroad</td>\n",
       "    </tr>\n",
       "    <tr>\n",
       "      <th>3</th>\n",
       "      <td>4</td>\n",
       "      <td>11-03-2020</td>\n",
       "      <td>true</td>\n",
       "      <td>false</td>\n",
       "      <td>false</td>\n",
       "      <td>false</td>\n",
       "      <td>false</td>\n",
       "      <td>negative</td>\n",
       "      <td>None</td>\n",
       "      <td>None</td>\n",
       "      <td>Abroad</td>\n",
       "    </tr>\n",
       "    <tr>\n",
       "      <th>4</th>\n",
       "      <td>5</td>\n",
       "      <td>11-03-2020</td>\n",
       "      <td>true</td>\n",
       "      <td>false</td>\n",
       "      <td>false</td>\n",
       "      <td>false</td>\n",
       "      <td>false</td>\n",
       "      <td>negative</td>\n",
       "      <td>None</td>\n",
       "      <td>None</td>\n",
       "      <td>Contact with confirmed</td>\n",
       "    </tr>\n",
       "    <tr>\n",
       "      <th>...</th>\n",
       "      <td>...</td>\n",
       "      <td>...</td>\n",
       "      <td>...</td>\n",
       "      <td>...</td>\n",
       "      <td>...</td>\n",
       "      <td>...</td>\n",
       "      <td>...</td>\n",
       "      <td>...</td>\n",
       "      <td>...</td>\n",
       "      <td>...</td>\n",
       "      <td>...</td>\n",
       "    </tr>\n",
       "    <tr>\n",
       "      <th>278843</th>\n",
       "      <td>278844</td>\n",
       "      <td>30-04-2020</td>\n",
       "      <td>false</td>\n",
       "      <td>false</td>\n",
       "      <td>false</td>\n",
       "      <td>false</td>\n",
       "      <td>false</td>\n",
       "      <td>positive</td>\n",
       "      <td>None</td>\n",
       "      <td>male</td>\n",
       "      <td>Other</td>\n",
       "    </tr>\n",
       "    <tr>\n",
       "      <th>278844</th>\n",
       "      <td>278845</td>\n",
       "      <td>30-04-2020</td>\n",
       "      <td>false</td>\n",
       "      <td>false</td>\n",
       "      <td>false</td>\n",
       "      <td>false</td>\n",
       "      <td>false</td>\n",
       "      <td>negative</td>\n",
       "      <td>None</td>\n",
       "      <td>female</td>\n",
       "      <td>Other</td>\n",
       "    </tr>\n",
       "    <tr>\n",
       "      <th>278845</th>\n",
       "      <td>278846</td>\n",
       "      <td>30-04-2020</td>\n",
       "      <td>false</td>\n",
       "      <td>false</td>\n",
       "      <td>false</td>\n",
       "      <td>false</td>\n",
       "      <td>false</td>\n",
       "      <td>negative</td>\n",
       "      <td>None</td>\n",
       "      <td>male</td>\n",
       "      <td>Other</td>\n",
       "    </tr>\n",
       "    <tr>\n",
       "      <th>278846</th>\n",
       "      <td>278847</td>\n",
       "      <td>30-04-2020</td>\n",
       "      <td>false</td>\n",
       "      <td>false</td>\n",
       "      <td>false</td>\n",
       "      <td>false</td>\n",
       "      <td>false</td>\n",
       "      <td>negative</td>\n",
       "      <td>None</td>\n",
       "      <td>male</td>\n",
       "      <td>Other</td>\n",
       "    </tr>\n",
       "    <tr>\n",
       "      <th>278847</th>\n",
       "      <td>278848</td>\n",
       "      <td>30-04-2020</td>\n",
       "      <td>false</td>\n",
       "      <td>false</td>\n",
       "      <td>false</td>\n",
       "      <td>false</td>\n",
       "      <td>false</td>\n",
       "      <td>negative</td>\n",
       "      <td>None</td>\n",
       "      <td>female</td>\n",
       "      <td>Other</td>\n",
       "    </tr>\n",
       "  </tbody>\n",
       "</table>\n",
       "<p>278848 rows × 11 columns</p>\n",
       "</div>"
      ],
      "text/plain": [
       "        Ind_ID   Test_date Cough_symptoms  Fever Sore_throat  \\\n",
       "0            1  11-03-2020           true  false        true   \n",
       "1            2  11-03-2020          false   true       false   \n",
       "2            3  11-03-2020          false   true       false   \n",
       "3            4  11-03-2020           true  false       false   \n",
       "4            5  11-03-2020           true  false       false   \n",
       "...        ...         ...            ...    ...         ...   \n",
       "278843  278844  30-04-2020          false  false       false   \n",
       "278844  278845  30-04-2020          false  false       false   \n",
       "278845  278846  30-04-2020          false  false       false   \n",
       "278846  278847  30-04-2020          false  false       false   \n",
       "278847  278848  30-04-2020          false  false       false   \n",
       "\n",
       "       Shortness_of_breath Headache    Corona Age_60_above  Gender  \\\n",
       "0                    false    false  negative         None    None   \n",
       "1                    false    false  positive         None    None   \n",
       "2                    false    false  positive         None    None   \n",
       "3                    false    false  negative         None    None   \n",
       "4                    false    false  negative         None    None   \n",
       "...                    ...      ...       ...          ...     ...   \n",
       "278843               false    false  positive         None    male   \n",
       "278844               false    false  negative         None  female   \n",
       "278845               false    false  negative         None    male   \n",
       "278846               false    false  negative         None    male   \n",
       "278847               false    false  negative         None  female   \n",
       "\n",
       "                 Known_contact  \n",
       "0                       Abroad  \n",
       "1                       Abroad  \n",
       "2                       Abroad  \n",
       "3                       Abroad  \n",
       "4       Contact with confirmed  \n",
       "...                        ...  \n",
       "278843                   Other  \n",
       "278844                   Other  \n",
       "278845                   Other  \n",
       "278846                   Other  \n",
       "278847                   Other  \n",
       "\n",
       "[278848 rows x 11 columns]"
      ]
     },
     "execution_count": 17,
     "metadata": {},
     "output_type": "execute_result"
    }
   ],
   "source": [
    "covid_data"
   ]
  },
  {
   "cell_type": "code",
   "execution_count": 20,
   "id": "50104e00",
   "metadata": {
    "scrolled": false
   },
   "outputs": [
    {
     "name": "stdout",
     "output_type": "stream",
     "text": [
      "1         1\n",
      "185898    1\n",
      "185904    1\n",
      "185903    1\n",
      "185902    1\n",
      "         ..\n",
      "92955     1\n",
      "92956     1\n",
      "92957     1\n",
      "92958     1\n",
      "278848    1\n",
      "Name: Ind_ID, Length: 278848, dtype: int64\n",
      "20-04-2020    10921\n",
      "19-04-2020    10199\n",
      "22-04-2020     9646\n",
      "21-04-2020     9624\n",
      "16-04-2020     9138\n",
      "23-04-2020     8744\n",
      "01-04-2020     8654\n",
      "13-04-2020     8425\n",
      "02-04-2020     8188\n",
      "03-04-2020     8079\n",
      "17-04-2020     7645\n",
      "05-04-2020     7509\n",
      "30-04-2020     7313\n",
      "27-04-2020     7304\n",
      "15-04-2020     7149\n",
      "31-03-2020     7134\n",
      "24-04-2020     7028\n",
      "26-03-2020     6663\n",
      "14-04-2020     6571\n",
      "28-04-2020     6334\n",
      "18-04-2020     6321\n",
      "26-04-2020     6131\n",
      "12-04-2020     5984\n",
      "27-03-2020     5963\n",
      "07-04-2020     5931\n",
      "30-03-2020     5915\n",
      "10-04-2020     5678\n",
      "28-03-2020     5602\n",
      "25-03-2020     5495\n",
      "06-04-2020     5368\n",
      "29-03-2020     5277\n",
      "04-04-2020     5145\n",
      "25-04-2020     5052\n",
      "24-03-2020     4735\n",
      "09-04-2020     4539\n",
      "11-04-2020     4341\n",
      "29-04-2020     4259\n",
      "08-04-2020     4058\n",
      "22-03-2020     3565\n",
      "23-03-2020     3494\n",
      "19-03-2020     2243\n",
      "18-03-2020     1991\n",
      "20-03-2020     1870\n",
      "21-03-2020     1648\n",
      "17-03-2020     1463\n",
      "16-03-2020     1304\n",
      "15-03-2020      985\n",
      "13-03-2020      686\n",
      "12-03-2020      634\n",
      "14-03-2020      609\n",
      "11-03-2020      294\n",
      "Name: Test_date, dtype: int64\n",
      "false    236368\n",
      "true      42228\n",
      "None        252\n",
      "Name: Cough_symptoms, dtype: int64\n",
      "false    256844\n",
      "true      21752\n",
      "None        252\n",
      "Name: Fever, dtype: int64\n",
      "false    276921\n",
      "true       1926\n",
      "None          1\n",
      "Name: Sore_throat, dtype: int64\n",
      "false    277270\n",
      "true       1577\n",
      "None          1\n",
      "Name: Shortness_of_breath, dtype: int64\n",
      "false    276433\n",
      "true       2414\n",
      "None          1\n",
      "Name: Headache, dtype: int64\n",
      "negative    260227\n",
      "positive     14729\n",
      "other         3892\n",
      "Name: Corona, dtype: int64\n",
      "None    127320\n",
      "No      125703\n",
      "Yes      25825\n",
      "Name: Age_60_above, dtype: int64\n",
      "female    130158\n",
      "male      129127\n",
      "None       19563\n",
      "Name: Gender, dtype: int64\n",
      "Other                     242741\n",
      "Abroad                     25468\n",
      "Contact with confirmed     10639\n",
      "Name: Known_contact, dtype: int64\n"
     ]
    }
   ],
   "source": [
    "for i in covid_data.columns:\n",
    "    print(covid_data[i].value_counts())\n",
    "    print()"
   ]
  },
  {
   "cell_type": "code",
   "execution_count": 15,
   "id": "88837fe1",
   "metadata": {},
   "outputs": [
    {
     "data": {
      "text/html": [
       "<div>\n",
       "<style scoped>\n",
       "    .dataframe tbody tr th:only-of-type {\n",
       "        vertical-align: middle;\n",
       "    }\n",
       "\n",
       "    .dataframe tbody tr th {\n",
       "        vertical-align: top;\n",
       "    }\n",
       "\n",
       "    .dataframe thead th {\n",
       "        text-align: right;\n",
       "    }\n",
       "</style>\n",
       "<table border=\"1\" class=\"dataframe\">\n",
       "  <thead>\n",
       "    <tr style=\"text-align: right;\">\n",
       "      <th></th>\n",
       "      <th>Ind_ID</th>\n",
       "      <th>Test_date</th>\n",
       "      <th>Cough_symptoms</th>\n",
       "      <th>Fever</th>\n",
       "      <th>Sore_throat</th>\n",
       "      <th>Shortness_of_breath</th>\n",
       "      <th>Headache</th>\n",
       "      <th>Corona</th>\n",
       "      <th>Age_60_above</th>\n",
       "      <th>Gender</th>\n",
       "      <th>Known_contact</th>\n",
       "    </tr>\n",
       "  </thead>\n",
       "  <tbody>\n",
       "    <tr>\n",
       "      <th>0</th>\n",
       "      <td>1</td>\n",
       "      <td>11-03-2020</td>\n",
       "      <td>true</td>\n",
       "      <td>false</td>\n",
       "      <td>true</td>\n",
       "      <td>false</td>\n",
       "      <td>false</td>\n",
       "      <td>negative</td>\n",
       "      <td>NaN</td>\n",
       "      <td>NaN</td>\n",
       "      <td>Abroad</td>\n",
       "    </tr>\n",
       "    <tr>\n",
       "      <th>1</th>\n",
       "      <td>2</td>\n",
       "      <td>11-03-2020</td>\n",
       "      <td>false</td>\n",
       "      <td>true</td>\n",
       "      <td>false</td>\n",
       "      <td>false</td>\n",
       "      <td>false</td>\n",
       "      <td>positive</td>\n",
       "      <td>NaN</td>\n",
       "      <td>NaN</td>\n",
       "      <td>Abroad</td>\n",
       "    </tr>\n",
       "    <tr>\n",
       "      <th>2</th>\n",
       "      <td>3</td>\n",
       "      <td>11-03-2020</td>\n",
       "      <td>false</td>\n",
       "      <td>true</td>\n",
       "      <td>false</td>\n",
       "      <td>false</td>\n",
       "      <td>false</td>\n",
       "      <td>positive</td>\n",
       "      <td>NaN</td>\n",
       "      <td>NaN</td>\n",
       "      <td>Abroad</td>\n",
       "    </tr>\n",
       "    <tr>\n",
       "      <th>3</th>\n",
       "      <td>4</td>\n",
       "      <td>11-03-2020</td>\n",
       "      <td>true</td>\n",
       "      <td>false</td>\n",
       "      <td>false</td>\n",
       "      <td>false</td>\n",
       "      <td>false</td>\n",
       "      <td>negative</td>\n",
       "      <td>NaN</td>\n",
       "      <td>NaN</td>\n",
       "      <td>Abroad</td>\n",
       "    </tr>\n",
       "    <tr>\n",
       "      <th>4</th>\n",
       "      <td>5</td>\n",
       "      <td>11-03-2020</td>\n",
       "      <td>true</td>\n",
       "      <td>false</td>\n",
       "      <td>false</td>\n",
       "      <td>false</td>\n",
       "      <td>false</td>\n",
       "      <td>negative</td>\n",
       "      <td>NaN</td>\n",
       "      <td>NaN</td>\n",
       "      <td>Contact with confirmed</td>\n",
       "    </tr>\n",
       "  </tbody>\n",
       "</table>\n",
       "</div>"
      ],
      "text/plain": [
       "  Ind_ID   Test_date Cough_symptoms  Fever Sore_throat Shortness_of_breath  \\\n",
       "0      1  11-03-2020           true  false        true               false   \n",
       "1      2  11-03-2020          false   true       false               false   \n",
       "2      3  11-03-2020          false   true       false               false   \n",
       "3      4  11-03-2020           true  false       false               false   \n",
       "4      5  11-03-2020           true  false       false               false   \n",
       "\n",
       "  Headache    Corona Age_60_above Gender           Known_contact  \n",
       "0    false  negative          NaN    NaN                  Abroad  \n",
       "1    false  positive          NaN    NaN                  Abroad  \n",
       "2    false  positive          NaN    NaN                  Abroad  \n",
       "3    false  negative          NaN    NaN                  Abroad  \n",
       "4    false  negative          NaN    NaN  Contact with confirmed  "
      ]
     },
     "execution_count": 15,
     "metadata": {},
     "output_type": "execute_result"
    }
   ],
   "source": [
    "#replacing None and other with nan\n",
    "covid_data = covid_data.replace('None',numpy.nan)\n",
    "covid_data = covid_data.replace('other',numpy.nan)\n",
    "#covid_data = covid_data.replace('Other',numpy.nan)\n",
    "covid_data.head()"
   ]
  },
  {
   "cell_type": "code",
   "execution_count": 16,
   "id": "879cbefa",
   "metadata": {},
   "outputs": [
    {
     "data": {
      "text/plain": [
       "Ind_ID                      0\n",
       "Test_date                   0\n",
       "Cough_symptoms            252\n",
       "Fever                     252\n",
       "Sore_throat                 1\n",
       "Shortness_of_breath         1\n",
       "Headache                    1\n",
       "Corona                   3892\n",
       "Age_60_above           127320\n",
       "Gender                  19563\n",
       "Known_contact               0\n",
       "dtype: int64"
      ]
     },
     "execution_count": 16,
     "metadata": {},
     "output_type": "execute_result"
    }
   ],
   "source": [
    "covid_data.isna().sum()"
   ]
  },
  {
   "cell_type": "code",
   "execution_count": 17,
   "id": "046a893e",
   "metadata": {},
   "outputs": [
    {
     "name": "stdout",
     "output_type": "stream",
     "text": [
      "Cough_symptoms : 0.09037 % nan\n",
      "Fever : 0.09037 % nan\n",
      "Sore_throat : 0.00036 % nan\n",
      "Shortness_of_breath : 0.00036 % nan\n",
      "Headache : 0.00036 % nan\n",
      "Age_60_above : 45.65928 % nan\n",
      "Gender : 7.01565 % nan\n",
      "Known_contact : 87.05 % nan\n"
     ]
    }
   ],
   "source": [
    "print(f\"Cough_symptoms : {round(covid_data['Cough_symptoms'].isnull().sum()*100/covid_data.shape[0],5)} % nan\")\n",
    "print(f\"Fever : {round(covid_data['Fever'].isnull().sum()*100/covid_data.shape[0],5)} % nan\")\n",
    "print(f\"Sore_throat : {round(covid_data['Sore_throat'].isnull().sum()*100/covid_data.shape[0],5)} % nan\")\n",
    "print(f\"Shortness_of_breath : {round(covid_data['Shortness_of_breath'].isnull().sum()*100/covid_data.shape[0],5)} % nan\")\n",
    "print(f\"Headache : {round(covid_data['Headache'].isnull().sum()*100/covid_data.shape[0],5)} % nan\")\n",
    "print(f\"Age_60_above : {round(covid_data['Age_60_above'].isnull().sum()*100/covid_data.shape[0],5)} % nan\")\n",
    "print(f\"Gender : {round(covid_data['Gender'].isnull().sum()*100/covid_data.shape[0],5)} % nan\")\n",
    "print(f\"Known_contact : {round(covid_data['Known_contact'][covid_data['Known_contact'] == 'Other'].count()*100/covid_data.shape[0],2)} % nan\")\n"
   ]
  },
  {
   "cell_type": "markdown",
   "id": "f748bbed",
   "metadata": {},
   "source": [
    "Since Age_60_above and known_contact has higher missing value so we need to drop these column"
   ]
  },
  {
   "cell_type": "code",
   "execution_count": 18,
   "id": "1f9fde36",
   "metadata": {},
   "outputs": [
    {
     "data": {
      "text/plain": [
       "Test_date                  0\n",
       "Cough_symptoms           252\n",
       "Fever                    252\n",
       "Sore_throat                1\n",
       "Shortness_of_breath        1\n",
       "Headache                   1\n",
       "Corona                  3892\n",
       "Gender                 19563\n",
       "dtype: int64"
      ]
     },
     "execution_count": 18,
     "metadata": {},
     "output_type": "execute_result"
    }
   ],
   "source": [
    "covid_data = covid_data.drop('Known_contact',axis=1)\n",
    "covid_data = covid_data.drop(['Age_60_above','Ind_ID'],axis=1)\n",
    "covid_data.isna().sum()"
   ]
  },
  {
   "cell_type": "code",
   "execution_count": 19,
   "id": "61699a43",
   "metadata": {},
   "outputs": [],
   "source": [
    "# removing rows with missing data less than 1 % \n",
    "covid_data = covid_data.dropna(subset = ['Cough_symptoms','Fever','Sore_throat','Shortness_of_breath','Headache','Corona'])"
   ]
  },
  {
   "cell_type": "code",
   "execution_count": 20,
   "id": "d75868a2",
   "metadata": {},
   "outputs": [
    {
     "data": {
      "text/plain": [
       "Test_date                  0\n",
       "Cough_symptoms             0\n",
       "Fever                      0\n",
       "Sore_throat                0\n",
       "Shortness_of_breath        0\n",
       "Headache                   0\n",
       "Corona                     0\n",
       "Gender                 19034\n",
       "dtype: int64"
      ]
     },
     "execution_count": 20,
     "metadata": {},
     "output_type": "execute_result"
    }
   ],
   "source": [
    "covid_data.isnull().sum()"
   ]
  },
  {
   "cell_type": "code",
   "execution_count": 21,
   "id": "8af2e8e6",
   "metadata": {},
   "outputs": [],
   "source": [
    "# imputing missing value \n",
    "covid_data.fillna(method = 'bfill',inplace = True)"
   ]
  },
  {
   "cell_type": "markdown",
   "id": "a44c32a6",
   "metadata": {},
   "source": [
    "### EDA"
   ]
  },
  {
   "cell_type": "code",
   "execution_count": 22,
   "id": "18e9661c",
   "metadata": {},
   "outputs": [
    {
     "data": {
      "image/png": "[encoded data removed]",
      "text/plain": [
       "<Figure size 640x480 with 1 Axes>"
      ]
     },
     "metadata": {},
     "output_type": "display_data"
    }
   ],
   "source": [
    "seaborn.countplot(x='Test_date', hue='Corona', data=covid_data)\n",
    "plt.show()"
   ]
  },
  {
   "cell_type": "markdown",
   "id": "f8c0a07e",
   "metadata": {},
   "source": [
    "As number of testing increased, the infection rate reduced."
   ]
  },
  {
   "cell_type": "code",
   "execution_count": 23,
   "id": "7406e85c",
   "metadata": {},
   "outputs": [
    {
     "data": {
      "image/png": "[encoded data removed]",
      "text/plain": [
       "<Figure size 640x480 with 1 Axes>"
      ]
     },
     "metadata": {},
     "output_type": "display_data"
    }
   ],
   "source": [
    "seaborn.countplot(x='Cough_symptoms', hue='Corona', data=covid_data)\n",
    "plt.show()"
   ]
  },
  {
   "cell_type": "markdown",
   "id": "d6f32bee",
   "metadata": {},
   "source": [
    "People having cough symptoms are less likely to be covid negative"
   ]
  },
  {
   "cell_type": "code",
   "execution_count": 24,
   "id": "f3aba42b",
   "metadata": {},
   "outputs": [
    {
     "data": {
      "image/png": "[encoded data removed]",
      "text/plain": [
       "<Figure size 640x480 with 1 Axes>"
      ]
     },
     "metadata": {},
     "output_type": "display_data"
    }
   ],
   "source": [
    "seaborn.countplot(x='Fever', hue='Corona', data=covid_data)\n",
    "plt.show()"
   ]
  },
  {
   "cell_type": "markdown",
   "id": "6e7e3e46",
   "metadata": {},
   "source": [
    "People having fever symptoms are very less likely to be covid negative"
   ]
  },
  {
   "cell_type": "code",
   "execution_count": 25,
   "id": "41714f41",
   "metadata": {},
   "outputs": [
    {
     "data": {
      "image/png": "[encoded data removed]",
      "text/plain": [
       "<Figure size 640x480 with 1 Axes>"
      ]
     },
     "metadata": {},
     "output_type": "display_data"
    }
   ],
   "source": [
    "seaborn.countplot(x='Sore_throat', hue='Corona', data=covid_data)\n",
    "plt.show()"
   ]
  },
  {
   "cell_type": "markdown",
   "id": "35689026",
   "metadata": {},
   "source": [
    "Very few patients have sore throat and they are highly prone to covid positive."
   ]
  },
  {
   "cell_type": "code",
   "execution_count": 26,
   "id": "4de8adb7",
   "metadata": {},
   "outputs": [
    {
     "data": {
      "image/png": "[encoded data removed]",
      "text/plain": [
       "<Figure size 640x480 with 1 Axes>"
      ]
     },
     "metadata": {},
     "output_type": "display_data"
    }
   ],
   "source": [
    "seaborn.countplot(x='Shortness_of_breath', hue='Corona', data=covid_data)\n",
    "plt.show()"
   ]
  },
  {
   "cell_type": "markdown",
   "id": "11f70df7",
   "metadata": {},
   "source": [
    "Similar to sore throat, Shortness of breath is also a symptom to identify the covid patients easily."
   ]
  },
  {
   "cell_type": "code",
   "execution_count": 27,
   "id": "0b58f0ce",
   "metadata": {},
   "outputs": [
    {
     "data": {
      "image/png": "[encoded data removed]",
      "text/plain": [
       "<Figure size 640x480 with 1 Axes>"
      ]
     },
     "metadata": {},
     "output_type": "display_data"
    }
   ],
   "source": [
    "seaborn.countplot(x='Headache', hue='Corona', data=covid_data)\n",
    "plt.show()"
   ]
  },
  {
   "cell_type": "markdown",
   "id": "5c6ca63f",
   "metadata": {},
   "source": [
    "Just a few patients have this symtom but they are highly prone to be postive."
   ]
  },
  {
   "cell_type": "code",
   "execution_count": 28,
   "id": "3fe556a7",
   "metadata": {},
   "outputs": [
    {
     "data": {
      "image/png": "[encoded data removed]",
      "text/plain": [
       "<Figure size 640x480 with 1 Axes>"
      ]
     },
     "metadata": {},
     "output_type": "display_data"
    }
   ],
   "source": [
    "seaborn.countplot(x='Gender', hue='Corona', data=covid_data)\n",
    "plt.show()"
   ]
  },
  {
   "cell_type": "markdown",
   "id": "73c12423",
   "metadata": {},
   "source": [
    "**Gender does not have considerable affect on being covid positive or negative.**"
   ]
  },
  {
   "cell_type": "code",
   "execution_count": 29,
   "id": "7b8761dc",
   "metadata": {},
   "outputs": [],
   "source": [
    "#encoding the categorical data\n",
    "covid_data.drop('Test_date',axis=1,inplace = True)\n",
    "encoded = pandas.get_dummies(covid_data,drop_first =True)"
   ]
  },
  {
   "cell_type": "code",
   "execution_count": 30,
   "id": "77c453fa",
   "metadata": {},
   "outputs": [],
   "source": [
    "encoded = encoded.astype('category')"
   ]
  },
  {
   "cell_type": "markdown",
   "id": "c7378678",
   "metadata": {},
   "source": [
    "### Important Feature Selecton "
   ]
  },
  {
   "cell_type": "code",
   "execution_count": 31,
   "id": "570470b4",
   "metadata": {},
   "outputs": [],
   "source": [
    " # Separating the feature and target\n",
    "\n",
    "X = encoded.drop('Corona_positive', axis=1)\n",
    "y = encoded['Corona_positive']"
   ]
  },
  {
   "cell_type": "code",
   "execution_count": 32,
   "id": "975586a6",
   "metadata": {},
   "outputs": [
    {
     "data": {
      "text/plain": [
       "Index(['Cough_symptoms_true', 'Fever_true', 'Sore_throat_true',\n",
       "       'Shortness_of_breath_true', 'Headache_true'],\n",
       "      dtype='object')"
      ]
     },
     "execution_count": 32,
     "metadata": {},
     "output_type": "execute_result"
    }
   ],
   "source": [
    "# CHI2 method to select top 5 features\n",
    "\n",
    "selector = SelectKBest(score_func=chi2, k=5)\n",
    "X_new = selector.fit_transform(X, y)\n",
    "\n",
    "# masking the Boolean array indicating the status of each feature\n",
    "mask = selector.get_support()\n",
    "\n",
    "# convert the Boolean array to a list of indices\n",
    "selected_feature_indices = mask.nonzero()[0]\n",
    "\n",
    "# use the indices to get the names of the selected features\n",
    "selected_feature_names = X.columns[selected_feature_indices]\n",
    "selected_feature_names"
   ]
  },
  {
   "cell_type": "code",
   "execution_count": 33,
   "id": "39b45558",
   "metadata": {},
   "outputs": [],
   "source": [
    "# removing less important feature\n",
    "feature_data = encoded.drop('Gender_male',axis = True)"
   ]
  },
  {
   "cell_type": "code",
   "execution_count": 34,
   "id": "20efa75c",
   "metadata": {},
   "outputs": [],
   "source": [
    "# separating features and target for train test split\n",
    "features = feature_data.drop('Corona_positive',axis = True)\n",
    "target = feature_data['Corona_positive']"
   ]
  },
  {
   "cell_type": "markdown",
   "id": "356b85ea",
   "metadata": {},
   "source": [
    "### Model Creation"
   ]
  },
  {
   "cell_type": "markdown",
   "id": "80182b13",
   "metadata": {},
   "source": [
    "**1. Logistic Regression**"
   ]
  },
  {
   "cell_type": "code",
   "execution_count": 67,
   "id": "66f05f92",
   "metadata": {},
   "outputs": [
    {
     "name": "stdout",
     "output_type": "stream",
     "text": [
      "accuracy_score for training logistic regression is  0.956714201120247\n"
     ]
    }
   ],
   "source": [
    "# splitting the dataset\n",
    "x_train, x_test, y_train, y_test = train_test_split(features,target,train_size = 0.75, random_state = 42)\n",
    "logistic_regression = LogisticRegression(solver='lbfgs', multi_class='auto',random_state = 42)\n",
    "logistic_regression.fit(x_train, y_train)\n",
    "\n",
    "y_train_lr = logistic_regression.predict(x_train)\n",
    "y_pred_lr = logistic_regression.predict(x_test)\n",
    "\n",
    "acc_train_lr = accuracy_score(y_train,y_train_lr)\n",
    "print('accuracy_score for training logistic regression is ',acc_train_lr)"
   ]
  },
  {
   "cell_type": "code",
   "execution_count": 68,
   "id": "6243fd1d",
   "metadata": {},
   "outputs": [
    {
     "name": "stdout",
     "output_type": "stream",
     "text": [
      "confusion_matrix: \n",
      "  [[64894   159]\n",
      " [ 2770   853]]\n"
     ]
    }
   ],
   "source": [
    "acc_logistic = accuracy_score(y_test, y_pred_lr)\n",
    "prec_logistic = precision_score(y_test, y_pred_lr)\n",
    "recall_logistic = recall_score(y_test, y_pred_lr)\n",
    "f1_logistic = f1_score(y_test, y_pred_lr)\n",
    "conf_mat_lr = confusion_matrix(y_test, y_pred_lr)\n",
    "\n",
    "print('confusion_matrix: \\n ',conf_mat_lr)"
   ]
  },
  {
   "cell_type": "code",
   "execution_count": 69,
   "id": "97856344",
   "metadata": {},
   "outputs": [
    {
     "name": "stdout",
     "output_type": "stream",
     "text": [
      "0.957350457219407\n",
      "0.8428853754940712\n",
      "0.2354402428926304\n",
      "0.3680690399137001\n"
     ]
    }
   ],
   "source": [
    "print(acc_logistic)\n",
    "print(prec_logistic)\n",
    "print(recall_logistic)\n",
    "print(f1_logistic)"
   ]
  },
  {
   "cell_type": "code",
   "execution_count": 70,
   "id": "4bc6d321",
   "metadata": {},
   "outputs": [
    {
     "name": "stdout",
     "output_type": "stream",
     "text": [
      "              precision    recall  f1-score   support\n",
      "\n",
      "           0       0.96      1.00      0.98     65053\n",
      "           1       0.84      0.24      0.37      3623\n",
      "\n",
      "    accuracy                           0.96     68676\n",
      "   macro avg       0.90      0.62      0.67     68676\n",
      "weighted avg       0.95      0.96      0.95     68676\n",
      "\n"
     ]
    }
   ],
   "source": [
    "class_report_lg = classification_report(y_test,y_pred_lr)\n",
    "print(class_report_lg)"
   ]
  },
  {
   "cell_type": "code",
   "execution_count": 73,
   "id": "831695ab",
   "metadata": {},
   "outputs": [
    {
     "name": "stdout",
     "output_type": "stream",
     "text": [
      "[0.9579367  0.96268725 0.96041136 0.95418639 0.94657809]\n",
      "Mean accuracy score: 0.956359954044623\n"
     ]
    }
   ],
   "source": [
    "# cross validation \n",
    "\n",
    "from sklearn.model_selection import cross_val_score\n",
    "\n",
    "cv_scores = cross_val_score(logistic_regression, features, target, cv=5)\n",
    "\n",
    "\n",
    "print(cv_scores)\n",
    "\n",
    "mean_cv_score = cv_scores.mean()\n",
    "\n",
    "\n",
    "print(\"Mean accuracy score: {}\".format(mean_cv_score))\n"
   ]
  },
  {
   "cell_type": "markdown",
   "id": "a6d9075c",
   "metadata": {},
   "source": [
    "**2. Decision Tree**"
   ]
  },
  {
   "cell_type": "code",
   "execution_count": 74,
   "id": "b00debf5",
   "metadata": {},
   "outputs": [
    {
     "name": "stdout",
     "output_type": "stream",
     "text": [
      "confusion_matrix: \n",
      "  [[64692   216]\n",
      " [ 2777   991]]\n",
      "Accuracy:  0.9564185450521289\n",
      "Precision:  0.8210439105219552\n",
      "Recall:  0.2630042462845011\n",
      "F1 Score:  0.39839195979899494\n"
     ]
    }
   ],
   "source": [
    "from sklearn.metrics import confusion_matrix, accuracy_score, precision_score, recall_score, f1_score\n",
    "\n",
    "x_train, x_test, y_train, y_test = train_test_split(features,target,train_size = 0.75, random_state = 72)\n",
    "\n",
    "decision_tree = DecisionTreeClassifier()\n",
    "decision_tree.fit(x_train, y_train)\n",
    "\n",
    "y_pred_dt_train = decision_tree.predict(x_train)\n",
    "y_pred_dt_test = decision_tree.predict(x_test)\n",
    "\n",
    "conf_mat_dt = confusion_matrix(y_test, y_pred_dt_test)\n",
    "\n",
    "print('confusion_matrix: \\n ', conf_mat_dt)\n",
    "\n",
    "accuracy_dt = accuracy_score(y_test, y_pred_dt_test)\n",
    "precision_dt = precision_score(y_test, y_pred_dt_test)\n",
    "recall_dt = recall_score(y_test, y_pred_dt_test)\n",
    "f1_dt = f1_score(y_test, y_pred_dt_test)\n",
    "\n",
    "print(\"Accuracy: \", accuracy_dt)\n",
    "print(\"Precision: \", precision_dt)\n",
    "print(\"Recall: \", recall_dt)\n",
    "print(\"F1 Score: \", f1_dt)\n"
   ]
  },
  {
   "cell_type": "code",
   "execution_count": 77,
   "id": "840f0aef",
   "metadata": {},
   "outputs": [
    {
     "data": {
      "text/plain": [
       "0.957830565074311"
      ]
     },
     "execution_count": 77,
     "metadata": {},
     "output_type": "execute_result"
    }
   ],
   "source": [
    "acc_train_dt = accuracy_score(y_train,y_pred_dt_train)\n",
    "acc_train_dt"
   ]
  },
  {
   "cell_type": "code",
   "execution_count": 78,
   "id": "f7c0375d",
   "metadata": {},
   "outputs": [
    {
     "name": "stdout",
     "output_type": "stream",
     "text": [
      "              precision    recall  f1-score   support\n",
      "\n",
      "           0       0.96      1.00      0.98     64908\n",
      "           1       0.82      0.26      0.40      3768\n",
      "\n",
      "    accuracy                           0.96     68676\n",
      "   macro avg       0.89      0.63      0.69     68676\n",
      "weighted avg       0.95      0.96      0.95     68676\n",
      "\n"
     ]
    }
   ],
   "source": [
    "class_report_dt = classification_report(y_test,y_pred_dt_test)\n",
    "print(class_report_dt)"
   ]
  },
  {
   "cell_type": "code",
   "execution_count": 97,
   "id": "848565a1",
   "metadata": {},
   "outputs": [
    {
     "name": "stdout",
     "output_type": "stream",
     "text": [
      "[0.93269266 0.94179316 0.94277394 0.94863487 0.94710593 0.95558791\n",
      " 0.97120495 0.97524572 0.97692028 0.98183473]\n",
      "Mean accuracy score: 0.9573794157778617\n"
     ]
    }
   ],
   "source": [
    "kfold = KFold(n_splits=10)\n",
    "cv_scores = cross_val_score(decision_tree, features, target,cv=kfold)\n",
    "\n",
    "print(cv_scores)\n",
    "\n",
    "mean_cv_score = cv_scores.mean()\n",
    "\n",
    "\n",
    "print(\"Mean accuracy score: {}\".format(mean_cv_score))\n"
   ]
  },
  {
   "cell_type": "markdown",
   "id": "46edf117",
   "metadata": {},
   "source": [
    "**3. Random Forest Classifier**"
   ]
  },
  {
   "cell_type": "code",
   "execution_count": 79,
   "id": "e99e756c",
   "metadata": {},
   "outputs": [],
   "source": [
    "x_train,x_test,y_train,y_test = train_test_split(features,target,test_size = 0.25,random_state = 100)"
   ]
  },
  {
   "cell_type": "code",
   "execution_count": 80,
   "id": "8cc3beec",
   "metadata": {},
   "outputs": [],
   "source": [
    "rfc = RandomForestClassifier()\n",
    "rfc.fit(x_train, y_train)\n",
    "y_train_rf = rfc.predict(x_train)\n",
    "y_pred_rf = rfc.predict(x_test)"
   ]
  },
  {
   "cell_type": "code",
   "execution_count": 81,
   "id": "0053b1a3",
   "metadata": {},
   "outputs": [
    {
     "data": {
      "text/plain": [
       "0.9577286361915487"
      ]
     },
     "execution_count": 81,
     "metadata": {},
     "output_type": "execute_result"
    }
   ],
   "source": [
    "acc_train_rf = accuracy_score(y_train,y_train_rf)\n",
    "acc_train_rf"
   ]
  },
  {
   "cell_type": "code",
   "execution_count": 82,
   "id": "3095aa1b",
   "metadata": {},
   "outputs": [
    {
     "name": "stdout",
     "output_type": "stream",
     "text": [
      "confusion_matrix: \n",
      "  [[64752   210]\n",
      " [ 2762   952]]\n"
     ]
    }
   ],
   "source": [
    "conf_mat_rf=confusion_matrix(y_test,y_pred_rf )\n",
    "\n",
    "print('confusion_matrix: \\n ',conf_mat_rf)"
   ]
  },
  {
   "cell_type": "code",
   "execution_count": 83,
   "id": "0fc1cf47",
   "metadata": {},
   "outputs": [
    {
     "name": "stdout",
     "output_type": "stream",
     "text": [
      "0.956724328732017\n",
      "0.8192771084337349\n",
      "0.2563274098007539\n",
      "0.39048400328137817\n"
     ]
    }
   ],
   "source": [
    "tn = conf_mat_rf[0,0]\n",
    "fp = conf_mat_rf[0,1]\n",
    "fn = conf_mat_rf[1,0]\n",
    "tp = conf_mat_rf[1,1]\n",
    "\n",
    "acc_rf = (tp+tn)/(tp+tn+fp+fn)\n",
    "precision_rf = tp/(tp+fp)\n",
    "recall_rf = tp/(tp+fn)\n",
    "f_score_rf = 2*(precision_rf*recall_rf)/(precision_rf + recall_rf)\n",
    "\n",
    "print(acc_rf)\n",
    "print(precision_rf)\n",
    "print(recall_rf)\n",
    "print(f_score_rf)"
   ]
  },
  {
   "cell_type": "code",
   "execution_count": 96,
   "id": "6c01ba87",
   "metadata": {},
   "outputs": [
    {
     "name": "stdout",
     "output_type": "stream",
     "text": [
      "cross validation score: [0.9377332  0.94410367 0.95134692 0.97322534 0.9793775 ]\n",
      "Average mean: 0.9571573285879886\n"
     ]
    }
   ],
   "source": [
    "from sklearn.model_selection import KFold,cross_val_score\n",
    "\n",
    "cross_rf = RandomForestClassifier(random_state = 42)\n",
    "kfold = KFold(n_splits = 5)\n",
    "cross_score_rf = cross_val_score(cross_rf,features,target,cv = kfold)\n",
    "print(\"cross validation score:\" , cross_score_rf)\n",
    "print(\"Average mean:\",cross_score_rf.mean())"
   ]
  },
  {
   "cell_type": "markdown",
   "id": "2e8f6e14",
   "metadata": {},
   "source": [
    "**4. Support Vector Machine**"
   ]
  },
  {
   "cell_type": "code",
   "execution_count": 85,
   "id": "629b6d8b",
   "metadata": {},
   "outputs": [],
   "source": [
    "x1, x2, y1, y2 = train_test_split(features,target,test_size = 0.25, random_state = 0)"
   ]
  },
  {
   "cell_type": "code",
   "execution_count": 86,
   "id": "65e36a2b",
   "metadata": {},
   "outputs": [
    {
     "data": {
      "text/plain": [
       "SVC()"
      ]
     },
     "execution_count": 86,
     "metadata": {},
     "output_type": "execute_result"
    }
   ],
   "source": [
    "from sklearn.svm import SVC\n",
    "svc = SVC()\n",
    "svc.fit(x1, y1)"
   ]
  },
  {
   "cell_type": "code",
   "execution_count": 87,
   "id": "17c4dd52",
   "metadata": {},
   "outputs": [],
   "source": [
    "y_train_svm = svc.predict(x1)\n",
    "y_pred_svm = svc.predict(x2)"
   ]
  },
  {
   "cell_type": "code",
   "execution_count": 88,
   "id": "23023ce7",
   "metadata": {},
   "outputs": [
    {
     "data": {
      "text/plain": [
       "0.9314358381951793"
      ]
     },
     "execution_count": 88,
     "metadata": {},
     "output_type": "execute_result"
    }
   ],
   "source": [
    "acc_train_svm = accuracy_score(y_train,y_train_svm)\n",
    "acc_train_svm"
   ]
  },
  {
   "cell_type": "code",
   "execution_count": 89,
   "id": "e1438ff0",
   "metadata": {},
   "outputs": [
    {
     "name": "stdout",
     "output_type": "stream",
     "text": [
      "confusion_matrix: \n",
      "  [[64812   175]\n",
      " [ 2789   900]]\n"
     ]
    }
   ],
   "source": [
    "confusion_mat=confusion_matrix(y2,y_pred_svm )\n",
    "\n",
    "print('confusion_matrix: \\n ',confusion_mat)"
   ]
  },
  {
   "cell_type": "code",
   "execution_count": 90,
   "id": "34426f05",
   "metadata": {},
   "outputs": [
    {
     "name": "stdout",
     "output_type": "stream",
     "text": [
      "0.9568408177529268\n",
      "0.8372093023255814\n",
      "0.2439685551640011\n",
      "0.37783375314861467\n"
     ]
    }
   ],
   "source": [
    "tn = confusion_mat[0,0]\n",
    "fp = confusion_mat[0,1]\n",
    "fn = confusion_mat[1,0]\n",
    "tp = confusion_mat[1,1]\n",
    "\n",
    "acc_svm = (tp+tn)/(tp+tn+fp+fn)\n",
    "precision_svm = tp/(tp+fp)\n",
    "recall_svm = tp/(tp+fn)\n",
    "f_score_svm = 2*(precision_svm*recall_svm)/(precision_svm + recall_svm)\n",
    "\n",
    "print(acc_svm)\n",
    "print(precision_svm)\n",
    "print(recall_svm)\n",
    "print(f_score_svm)"
   ]
  },
  {
   "cell_type": "markdown",
   "id": "bc075c48",
   "metadata": {},
   "source": [
    "**5. Adaboost model**"
   ]
  },
  {
   "cell_type": "code",
   "execution_count": 91,
   "id": "e6a5761c",
   "metadata": {},
   "outputs": [],
   "source": [
    "from sklearn.ensemble import AdaBoostClassifier\n",
    "\n",
    "x1,x2,y1,y2 = train_test_split(features, target, test_size = 0.25, random_state = 130)\n",
    "clf = AdaBoostClassifier(DecisionTreeClassifier(max_depth=3),n_estimators=100)\n",
    "clf.fit(x1, y1)\n",
    "\n",
    "y_train_ada = clf.predict(x1)\n",
    "y_pred_ad = clf.predict(x2)\n"
   ]
  },
  {
   "cell_type": "code",
   "execution_count": 122,
   "id": "273de198",
   "metadata": {},
   "outputs": [
    {
     "name": "stdout",
     "output_type": "stream",
     "text": [
      "0.9312416879422986\n",
      "\n",
      "\n",
      "confusion_matrix: \n",
      "  [[64038  1095]\n",
      " [ 3482    61]]\n"
     ]
    }
   ],
   "source": [
    "acc_train_ad = accuracy_score(y1,y_train_ada)\n",
    "print(acc_train_ad)\n",
    "print('\\n')\n",
    "confusion_mat = confusion_matrix(y2,y_pred_ad)\n",
    "\n",
    "print('confusion_matrix: \\n ',confusion_mat)"
   ]
  },
  {
   "cell_type": "code",
   "execution_count": 123,
   "id": "0e31957d",
   "metadata": {},
   "outputs": [
    {
     "name": "stdout",
     "output_type": "stream",
     "text": [
      "0.9333537189119926\n",
      "0.052768166089965395\n",
      "0.017217047699689528\n",
      "0.02596297084486061\n"
     ]
    }
   ],
   "source": [
    "tn = confusion_mat[0,0]\n",
    "fp = confusion_mat[0,1]\n",
    "fn = confusion_mat[1,0]\n",
    "tp = confusion_mat[1,1]\n",
    "\n",
    "acc_ad = (tp+tn)/(tp+tn+fp+fn)\n",
    "precision_ad = tp/(tp+fp)\n",
    "recall_ad = tp/(tp+fn)\n",
    "f_score_ad = 2*(precision_ad*recall_ad)/(precision_ad + recall_ad)\n",
    "\n",
    "print(acc_ad)\n",
    "print(precision_ad)\n",
    "print(recall_ad)\n",
    "print(f_score_ad)"
   ]
  },
  {
   "cell_type": "code",
   "execution_count": 98,
   "id": "74b06a30",
   "metadata": {},
   "outputs": [
    {
     "name": "stdout",
     "output_type": "stream",
     "text": [
      "cross validation score: [0.93676968 0.93676968 0.93451037 0.9445577  0.94179104 0.95573353\n",
      " 0.97149618 0.97528213 0.97699308 0.98190754]\n",
      "Average mean: 0.9555810937773253\n"
     ]
    }
   ],
   "source": [
    "cross_ad = AdaBoostClassifier(random_state = 42)\n",
    "kfold = KFold(n_splits = 10)\n",
    "cross_score_ad = cross_val_score(cross_ad,features,target,cv = kfold)\n",
    "print(\"cross validation score:\" , cross_score_ad)\n",
    "print(\"Average mean:\",cross_score_ad.mean())"
   ]
  },
  {
   "cell_type": "markdown",
   "id": "9f33b099",
   "metadata": {},
   "source": [
    "**6. Gradient boost model**"
   ]
  },
  {
   "cell_type": "code",
   "execution_count": 99,
   "id": "26da6fe9",
   "metadata": {},
   "outputs": [],
   "source": [
    "from sklearn.ensemble import GradientBoostingClassifier\n",
    "x1,x2,y1,y2 = train_test_split(features, target, test_size = 0.25, random_state = 160)\n",
    "\n",
    "gb = GradientBoostingClassifier()\n",
    "gb.fit(x1, y1)\n",
    "\n",
    "y_train_gb = gb.predict(x1)\n",
    "y_pred_gb = gb.predict(x2)"
   ]
  },
  {
   "cell_type": "code",
   "execution_count": 100,
   "id": "6c8792d1",
   "metadata": {},
   "outputs": [
    {
     "name": "stdout",
     "output_type": "stream",
     "text": [
      "0.956714201120247\n",
      "\n",
      "\n",
      "\n",
      "confusion_matrix: \n",
      "  [[64974   159]\n",
      " [ 2631   912]]\n"
     ]
    }
   ],
   "source": [
    "acc_train_gb = accuracy_score(y1,y_train_gb)\n",
    "print(acc_train_gb)\n",
    "print('\\n\\n')\n",
    "confusion_mat = confusion_matrix(y2,y_pred_gb)\n",
    "\n",
    "print('confusion_matrix: \\n ',confusion_mat)"
   ]
  },
  {
   "cell_type": "code",
   "execution_count": 101,
   "id": "909fb588",
   "metadata": {},
   "outputs": [
    {
     "name": "stdout",
     "output_type": "stream",
     "text": [
      "0.9593744539577145\n",
      "0.8515406162464986\n",
      "0.2574089754445385\n",
      "0.3953185955786736\n"
     ]
    }
   ],
   "source": [
    "tn = confusion_mat[0,0]\n",
    "fp = confusion_mat[0,1]\n",
    "fn = confusion_mat[1,0]\n",
    "tp = confusion_mat[1,1]\n",
    "\n",
    "acc_gb = (tp+tn)/(tp+tn+fp+fn)\n",
    "precision_gb = tp/(tp+fp)\n",
    "recall_gb = tp/(tp+fn)\n",
    "f_score_gb = 2*(precision_gb*recall_gb)/(precision_gb + recall_gb)\n",
    "\n",
    "print(acc_gb)\n",
    "print(precision_gb)\n",
    "print(recall_gb)\n",
    "print(f_score_gb)"
   ]
  },
  {
   "cell_type": "code",
   "execution_count": 102,
   "id": "f09992fc",
   "metadata": {},
   "outputs": [
    {
     "name": "stdout",
     "output_type": "stream",
     "text": [
      "cross validation score: [0.93269266 0.94179316 0.94193666 0.94808882 0.94637787 0.95558791\n",
      " 0.97120495 0.97524572 0.97692028 0.98183473]\n",
      "Average mean: 0.9571682763530346\n"
     ]
    }
   ],
   "source": [
    "cross_gb = GradientBoostingClassifier(random_state = 42)\n",
    "kfold = KFold(n_splits = 10)\n",
    "cross_score_gb = cross_val_score(cross_gb,features,target,cv = kfold)\n",
    "print(\"cross validation score:\" , cross_score_gb)\n",
    "print(\"Average mean:\",cross_score_gb.mean())"
   ]
  },
  {
   "cell_type": "markdown",
   "id": "eb39bc71",
   "metadata": {},
   "source": [
    "**7. KNN Classification Model**"
   ]
  },
  {
   "cell_type": "code",
   "execution_count": 106,
   "id": "5c04079a",
   "metadata": {},
   "outputs": [
    {
     "data": {
      "text/plain": [
       "KNeighborsClassifier()"
      ]
     },
     "execution_count": 106,
     "metadata": {},
     "output_type": "execute_result"
    }
   ],
   "source": [
    "from sklearn.neighbors import KNeighborsClassifier  \n",
    "\n",
    "x_train , x_test, y_train, y_test= train_test_split(features, target, test_size = 0.25, random_state = 230)\n",
    "classifier= KNeighborsClassifier()  \n",
    "classifier.fit(x_train, y_train) "
   ]
  },
  {
   "cell_type": "code",
   "execution_count": 107,
   "id": "414c8ddb",
   "metadata": {},
   "outputs": [],
   "source": [
    "y_train_knn = classifier.predict(x_train)\n",
    "y_pred_knn = classifier.predict(x_test)  "
   ]
  },
  {
   "cell_type": "code",
   "execution_count": 109,
   "id": "63bd69a7",
   "metadata": {},
   "outputs": [
    {
     "name": "stdout",
     "output_type": "stream",
     "text": [
      "0.9570588178191102\n",
      "\n",
      "\n",
      "\n",
      "confusion_matrix: \n",
      "  [[64927   148]\n",
      " [ 2756   845]]\n"
     ]
    }
   ],
   "source": [
    "acc_train_knn = accuracy_score(y_train,y_train_knn)\n",
    "print(acc_train_knn)\n",
    "print('\\n\\n')\n",
    "confusion_mat = confusion_matrix(y_test,y_pred_knn)\n",
    "\n",
    "print('confusion_matrix: \\n ',confusion_mat)"
   ]
  },
  {
   "cell_type": "code",
   "execution_count": 110,
   "id": "96b0a18f",
   "metadata": {},
   "outputs": [
    {
     "name": "stdout",
     "output_type": "stream",
     "text": [
      "0.9577144854097501\n",
      "0.850956696878147\n",
      "0.23465703971119134\n",
      "0.3678711362646931\n"
     ]
    }
   ],
   "source": [
    "tn = confusion_mat[0,0]\n",
    "fp = confusion_mat[0,1]\n",
    "fn = confusion_mat[1,0]\n",
    "tp = confusion_mat[1,1]\n",
    "\n",
    "acc_knn = (tp+tn)/(tp+tn+fp+fn)\n",
    "precision_knn = tp/(tp+fp)\n",
    "recall_knn = tp/(tp+fn)\n",
    "f_score_knn = 2*(precision_knn*recall_knn)/(precision_knn + recall_knn)\n",
    "\n",
    "print(acc_knn)\n",
    "print(precision_knn)\n",
    "print(recall_knn)\n",
    "print(f_score_knn)"
   ]
  },
  {
   "cell_type": "code",
   "execution_count": 113,
   "id": "667e4024",
   "metadata": {},
   "outputs": [
    {
     "name": "stdout",
     "output_type": "stream",
     "text": [
      "Cross validation scores:  [0.05349375 0.95234888 0.9521296  0.94914452 0.9348016 ]\n",
      "Mean cross validation score:  0.7683836700304653\n"
     ]
    }
   ],
   "source": [
    "knn =KNeighborsClassifier()\n",
    "cross_score_KNN = cross_val_score(knn, features, target, cv=5)\n",
    "\n",
    "print(\"Cross validation scores: \", cross_score_KNN)\n",
    "print(\"Mean cross validation score: \", cross_score_KNN.mean())"
   ]
  },
  {
   "cell_type": "code",
   "execution_count": null,
   "id": "21511f9c",
   "metadata": {},
   "outputs": [],
   "source": []
  },
  {
   "cell_type": "code",
   "execution_count": 118,
   "id": "7f3a01d7",
   "metadata": {},
   "outputs": [],
   "source": [
    "dict ={\n",
    "    'Accuracy_Train_set' : [acc_train_lr*100 , acc_train_dt*100, acc_train_rf*100, acc_train_svm*100, acc_train_ad*100 , acc_train_gb*100 , acc_train_knn*100 ],\n",
    "    'Accuracy_Test_set' : [acc_logistic*100, accuracy_dt*100, acc_rf*100, acc_svm*100, acc_ad*100, acc_gb*100, acc_knn*100],\n",
    "    'Precision' : [prec_logistic*100, precision_dt*100, precision_rf*100, precision_svm*100, precision_ad*100, precision_gb*100, precision_knn*100],\n",
    "    'Recall' : [recall_logistic*100, recall_dt*100, recall_rf*100, recall_svm*100,recall_ad*100,recall_gb*100,recall_knn*100],\n",
    "    'F-1 Score' : [f1_logistic*100, f1_dt*100, f_score_rf*100, f_score_svm*100, f_score_ad*100, f_score_gb*100, f_score_knn*100]\n",
    "}"
   ]
  },
  {
   "cell_type": "code",
   "execution_count": 119,
   "id": "4437aeb1",
   "metadata": {},
   "outputs": [],
   "source": [
    "df = pandas.DataFrame(dict,index = ['Logistic Regression', 'Decision Tree','Random Forest', 'Support Vector Machine','Adaboost','Gradient Boost', 'KNN'])"
   ]
  },
  {
   "cell_type": "code",
   "execution_count": 125,
   "id": "99de96e3",
   "metadata": {},
   "outputs": [
    {
     "data": {
      "text/html": [
       "<div>\n",
       "<style scoped>\n",
       "    .dataframe tbody tr th:only-of-type {\n",
       "        vertical-align: middle;\n",
       "    }\n",
       "\n",
       "    .dataframe tbody tr th {\n",
       "        vertical-align: top;\n",
       "    }\n",
       "\n",
       "    .dataframe thead th {\n",
       "        text-align: right;\n",
       "    }\n",
       "</style>\n",
       "<table border=\"1\" class=\"dataframe\">\n",
       "  <thead>\n",
       "    <tr style=\"text-align: right;\">\n",
       "      <th></th>\n",
       "      <th>Accuracy_Train_set</th>\n",
       "      <th>Accuracy_Test_set</th>\n",
       "      <th>Precision</th>\n",
       "      <th>Recall</th>\n",
       "      <th>F-1 Score</th>\n",
       "    </tr>\n",
       "  </thead>\n",
       "  <tbody>\n",
       "    <tr>\n",
       "      <th>Adaboost</th>\n",
       "      <td>93.124169</td>\n",
       "      <td>93.335372</td>\n",
       "      <td>5.276817</td>\n",
       "      <td>1.721705</td>\n",
       "      <td>2.596297</td>\n",
       "    </tr>\n",
       "    <tr>\n",
       "      <th>Decision Tree</th>\n",
       "      <td>95.783057</td>\n",
       "      <td>95.641855</td>\n",
       "      <td>82.104391</td>\n",
       "      <td>26.300425</td>\n",
       "      <td>39.839196</td>\n",
       "    </tr>\n",
       "    <tr>\n",
       "      <th>Random Forest</th>\n",
       "      <td>95.772864</td>\n",
       "      <td>95.672433</td>\n",
       "      <td>81.927711</td>\n",
       "      <td>25.632741</td>\n",
       "      <td>39.048400</td>\n",
       "    </tr>\n",
       "    <tr>\n",
       "      <th>Support Vector Machine</th>\n",
       "      <td>93.143584</td>\n",
       "      <td>95.684082</td>\n",
       "      <td>83.720930</td>\n",
       "      <td>24.396856</td>\n",
       "      <td>37.783375</td>\n",
       "    </tr>\n",
       "    <tr>\n",
       "      <th>Logistic Regression</th>\n",
       "      <td>95.671420</td>\n",
       "      <td>95.735046</td>\n",
       "      <td>84.288538</td>\n",
       "      <td>23.544024</td>\n",
       "      <td>36.806904</td>\n",
       "    </tr>\n",
       "    <tr>\n",
       "      <th>KNN</th>\n",
       "      <td>95.705882</td>\n",
       "      <td>95.771449</td>\n",
       "      <td>85.095670</td>\n",
       "      <td>23.465704</td>\n",
       "      <td>36.787114</td>\n",
       "    </tr>\n",
       "    <tr>\n",
       "      <th>Gradient Boost</th>\n",
       "      <td>95.671420</td>\n",
       "      <td>95.937445</td>\n",
       "      <td>85.154062</td>\n",
       "      <td>25.740898</td>\n",
       "      <td>39.531860</td>\n",
       "    </tr>\n",
       "  </tbody>\n",
       "</table>\n",
       "</div>"
      ],
      "text/plain": [
       "                        Accuracy_Train_set  Accuracy_Test_set  Precision  \\\n",
       "Adaboost                         93.124169          93.335372   5.276817   \n",
       "Decision Tree                    95.783057          95.641855  82.104391   \n",
       "Random Forest                    95.772864          95.672433  81.927711   \n",
       "Support Vector Machine           93.143584          95.684082  83.720930   \n",
       "Logistic Regression              95.671420          95.735046  84.288538   \n",
       "KNN                              95.705882          95.771449  85.095670   \n",
       "Gradient Boost                   95.671420          95.937445  85.154062   \n",
       "\n",
       "                           Recall  F-1 Score  \n",
       "Adaboost                 1.721705   2.596297  \n",
       "Decision Tree           26.300425  39.839196  \n",
       "Random Forest           25.632741  39.048400  \n",
       "Support Vector Machine  24.396856  37.783375  \n",
       "Logistic Regression     23.544024  36.806904  \n",
       "KNN                     23.465704  36.787114  \n",
       "Gradient Boost          25.740898  39.531860  "
      ]
     },
     "execution_count": 125,
     "metadata": {},
     "output_type": "execute_result"
    }
   ],
   "source": [
    "df.sort_values(by='Accuracy_Test_set')"
   ]
  },
  {
   "cell_type": "markdown",
   "id": "d0aad572",
   "metadata": {},
   "source": [
    "**Decision tree and Logistic Regression are the better model to predict covid status**"
   ]
  },
  {
   "cell_type": "markdown",
   "id": "381b4b74",
   "metadata": {},
   "source": [
    "**Saving the model**"
   ]
  },
  {
   "cell_type": "code",
   "execution_count": null,
   "id": "20e7f7a9",
   "metadata": {},
   "outputs": [],
   "source": [
    "t = [1,1,1,1,1]\n",
    "a=pandas.DataFrame()"
   ]
  },
  {
   "cell_type": "code",
   "execution_count": 128,
   "id": "18e8f8e1",
   "metadata": {},
   "outputs": [
    {
     "data": {
      "text/plain": [
       "['Decision_Tree_Model']"
      ]
     },
     "execution_count": 128,
     "metadata": {},
     "output_type": "execute_result"
    }
   ],
   "source": [
    "import joblib\n",
    "\n",
    "x_1 = features\n",
    "y_1 = target\n",
    "decision_tree = DecisionTreeClassifier()\n",
    "decision_tree.fit(x_1, y_1)\n",
    "\n",
    "joblib.dump(decision_tree,'Decision_Tree_Model')"
   ]
  },
  {
   "cell_type": "code",
   "execution_count": 130,
   "id": "b478183f",
   "metadata": {},
   "outputs": [
    {
     "data": {
      "text/plain": [
       "['logistic_regression_Model']"
      ]
     },
     "execution_count": 130,
     "metadata": {},
     "output_type": "execute_result"
    }
   ],
   "source": [
    "logistic_regression = LogisticRegression(solver='lbfgs', multi_class='auto',random_state = 42)\n",
    "logistic_regression.fit(x_1, y_1)\n",
    "joblib.dump(logistic_regression,'logistic_regression_Model')"
   ]
  },
  {
   "cell_type": "code",
   "execution_count": 135,
   "id": "8258d1ce",
   "metadata": {},
   "outputs": [],
   "source": [
    "import tkinter as tk\n",
    "import joblib\n",
    "\n",
    "root = tk.Tk()\n",
    "root.title(\"Model selection\")\n",
    "\n",
    "DT = joblib.load('Decision_Tree_Model')\n",
    "LR = joblib.load('logistic_regression_Model')\n",
    "def check(x): \n",
    "    tk.Label(root,text = 'Coughness ( 1 : Yes , 0: No)').grid(row=1)\n",
    "    tk.Label(root,text = 'Fever ( 1 : Yes , 0: No)').grid(row=2)\n",
    "    tk.Label(root,text = 'Sore throat ( 1 : Yes , 0: No)').grid(row=3)\n",
    "    tk.Label(root,text = 'breath problems ( 1 : Yes , 0: No)').grid(row=4)\n",
    "    tk.Label(root,text = 'Headache (yes : 1, No : 0)').grid(row=5)\n",
    "    \n",
    "                                                 \n",
    "    e1=tk.Entry(root)\n",
    "    e2=tk.Entry(root)\n",
    "    e3=tk.Entry(root)\n",
    "    e4=tk.Entry(root)\n",
    "    e5=tk.Entry(root)\n",
    "    \n",
    "                                                 \n",
    "    e1.grid(row=1, column=1)\n",
    "    e2.grid(row=2, column=1)\n",
    "    e3.grid(row=3, column=1)\n",
    "    e4.grid(row=4, column=1)\n",
    "    e5.grid(row=5, column=1)\n",
    "   \n",
    "        \n",
    "    def output():\n",
    "        p1=int(e1.get())\n",
    "        p2=int(e2.get())\n",
    "        p3=int(e3.get())\n",
    "        p4=int(e4.get())\n",
    "        p5=int(e5.get())\n",
    "       \n",
    "\n",
    "        if x == 'DT':\n",
    "            df = pandas.DataFrame([[p1,p2,p3,p4,p5]],columns=['Cough_symptoms_true', 'Fever_true', 'Sore_throat_true','Shortness_of_breath_true', 'Headache_true'])\n",
    "            result = DT.predict(df)\n",
    "            output = 'Positive' if result == 0 else 'Negative'\n",
    "            result_label = tk.Label(root, text=\"\")\n",
    "            result_label.grid(row=10,column=1)\n",
    "            result_label.config(text=str(output))\n",
    "        else:\n",
    "\n",
    "            result = LR.predict([[p1,p2,p3,p4,p5]])\n",
    "            output = 'Positive' if result == 0 else 'Negative'\n",
    "            result_label = tk.Label(root, text=\"\")\n",
    "            result_label.grid(row=10,column=1)\n",
    "            result_label.config(text=str(output))\n",
    "        \n",
    "\n",
    "    tk.Button(root, text=\"Predict\", command=output).grid(row=11,column=1)\n",
    "\n",
    "tk.Label(root, text=\"choose any one model (DT) or (LR)\").grid(row=0)\n",
    "\n",
    "tk.Button(root, text=\"Decision Tree\", command=lambda: check(\"DT\")).grid(row=0,column=1)\n",
    "\n",
    "tk.Button(root, text=\"Logistic Regression\", command=lambda: check(\"LR\")).grid(row=0,column=2)\n",
    "\n",
    "\n",
    "root.geometry(\"400x300\")\n",
    "\n",
    "root.mainloop()\n",
    "\n"
   ]
  },
  {
   "cell_type": "markdown",
   "id": "ad39367e",
   "metadata": {},
   "source": [
    "****************************Thanks*****************************"
   ]
  },
  {
   "cell_type": "code",
   "execution_count": null,
   "id": "dde959d5",
   "metadata": {},
   "outputs": [],
   "source": []
  },
  {
   "cell_type": "code",
   "execution_count": null,
   "id": "a2ef352b",
   "metadata": {},
   "outputs": [],
   "source": []
  }
 ],
 "metadata": {
  "kernelspec": {
   "display_name": "Python 3 (ipykernel)",
   "language": "python",
   "name": "python3"
  },
  "language_info": {
   "codemirror_mode": {
    "name": "ipython",
    "version": 3
   },
   "file_extension": ".py",
   "mimetype": "text/x-python",
   "name": "python",
   "nbconvert_exporter": "python",
   "pygments_lexer": "ipython3",
   "version": "3.10.9"
  }
 },
 "nbformat": 4,
 "nbformat_minor": 5
}
